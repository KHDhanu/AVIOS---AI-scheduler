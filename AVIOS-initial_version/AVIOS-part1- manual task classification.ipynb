{
  "nbformat": 4,
  "nbformat_minor": 0,
  "metadata": {
    "colab": {
      "provenance": []
    },
    "kernelspec": {
      "name": "python3",
      "display_name": "Python 3"
    },
    "language_info": {
      "name": "python"
    }
  },
  "cells": [
    {
      "cell_type": "code",
      "execution_count": 1,
      "metadata": {
        "colab": {
          "base_uri": "https://localhost:8080/"
        },
        "id": "6-hMwhl3eLSw",
        "outputId": "e338e78d-2d81-4c40-877a-ea6109b2ed08"
      },
      "outputs": [
        {
          "output_type": "stream",
          "name": "stdout",
          "text": [
            "Columns in dataset:\n",
            " ['Timestamp', 'PID', 'Name', 'State', 'PPid', 'Threads', 'VmRSS', 'Priority', 'Nice', 'CPU_Usage_%', 'Total_Time_Ticks', 'Elapsed_Time_sec', 'Voluntary_ctxt_switches', 'Nonvoluntary_ctxt_switches', 'Scheduling_Policy', 'Sched_Stats', 'IO_Stats', 'Cmdline']\n",
            "\n",
            "Dataset shape: (109979, 18)\n",
            "Requirement already satisfied: openpyxl in /usr/local/lib/python3.11/dist-packages (3.1.5)\n",
            "Requirement already satisfied: et-xmlfile in /usr/local/lib/python3.11/dist-packages (from openpyxl) (2.0.0)\n",
            "saved\n"
          ]
        }
      ],
      "source": [
        "import pandas as pd\n",
        "import json\n",
        "\n",
        "# 🔧 Replace with your actual file path in Colab\n",
        "file_path = '/content/aios_process_log_stream.json'\n",
        "\n",
        "# ✅ Read JSON lines\n",
        "data = []\n",
        "with open(file_path, 'r') as f:\n",
        "    for i, line in enumerate(f):\n",
        "        try:\n",
        "            data.append(json.loads(line))\n",
        "        except json.JSONDecodeError as e:\n",
        "            print(f\"Skipping line {i} due to JSON error: {e}\")\n",
        "            continue\n",
        "\n",
        "# ✅ Convert to DataFrame\n",
        "df = pd.DataFrame(data)\n",
        "\n",
        "# ✅ Display basic info\n",
        "print(\"Columns in dataset:\\n\", df.columns.tolist())\n",
        "print(\"\\nDataset shape:\", df.shape)\n",
        "\n",
        "# ✅ Display first few rows to inspect structure\n",
        "df.head()\n",
        "\n",
        "# Install openpyxl if needed in Colab\n",
        "!pip install openpyxl\n",
        "\n",
        "# Save to Excel\n",
        "df.to_excel('/content/structured_dataset.xlsx', index=False)\n",
        "print (\"saved\")\n"
      ]
    },
    {
      "cell_type": "code",
      "source": [
        "import numpy as np\n",
        "# 🔧 Clean and convert columns as needed\n",
        "df['CPU_Usage_%'] = pd.to_numeric(df['CPU_Usage_%'], errors='coerce')\n",
        "df['Nice'] = pd.to_numeric(df['Nice'], errors='coerce')\n",
        "df['Priority'] = pd.to_numeric(df['Priority'], errors='coerce')\n",
        "df['Total_Time_Ticks'] = pd.to_numeric(df['Total_Time_Ticks'], errors='coerce')\n",
        "df['Elapsed_Time_sec'] = pd.to_numeric(df['Elapsed_Time_sec'], errors='coerce')\n",
        "df['Voluntary_ctxt_switches'] = pd.to_numeric(df['Voluntary_ctxt_switches'], errors='coerce')\n",
        "df['Nonvoluntary_ctxt_switches'] = pd.to_numeric(df['Nonvoluntary_ctxt_switches'], errors='coerce')\n",
        "\n",
        "# 🔧 Derive avg_cpu_time safely\n",
        "df['avg_cpu_time'] = df['Total_Time_Ticks'] / (df['Elapsed_Time_sec'].replace(0, np.nan))\n",
        "\n",
        "import pandas as pd\n",
        "import numpy as np\n",
        "\n",
        "# ----------------------------------------\n",
        "# 🔷 1. Resource Usage Classification\n",
        "# ----------------------------------------\n",
        "\n",
        "def classify_resource(row):\n",
        "    cpu = row['CPU_Usage_%']\n",
        "    v = row['Voluntary_ctxt_switches']\n",
        "    nv = row['Nonvoluntary_ctxt_switches']\n",
        "\n",
        "    if cpu > 50 and nv > v:\n",
        "        return 'CPU-bound'\n",
        "    elif cpu < 20 and v > nv:\n",
        "        return 'IO-bound'\n",
        "    else:\n",
        "        return 'Mixed'\n",
        "\n",
        "df['Resource_Type'] = df.apply(classify_resource, axis=1)\n",
        "\n",
        "# ----------------------------------------\n",
        "# 🔷 2. Interactivity Classification\n",
        "# ----------------------------------------\n",
        "\n",
        "def classify_interactivity(row):\n",
        "    policy = row['Scheduling_Policy']\n",
        "    nice = row['Nice']\n",
        "    cpu = row['CPU_Usage_%']\n",
        "    ticks = row['Total_Time_Ticks']\n",
        "\n",
        "    if policy in ['SCHED_FIFO', 'SCHED_RR']:\n",
        "        return 'Real-time'\n",
        "    elif nice <= 0 and cpu < 30 and ticks < 500:\n",
        "        return 'Interactive'\n",
        "    elif nice > 10:\n",
        "        return 'Background'\n",
        "    elif cpu > 50 and ticks > 2000:\n",
        "        return 'Batch'\n",
        "    else:\n",
        "        return 'Other'\n",
        "\n",
        "df['Interactivity'] = df.apply(classify_interactivity, axis=1)\n",
        "\n",
        "# ----------------------------------------\n",
        "# 🔷 3. Priority Classification\n",
        "# ----------------------------------------\n",
        "\n",
        "def classify_priority(row):\n",
        "    nice = row['Nice']\n",
        "    if nice < 0:\n",
        "        return 'High'\n",
        "    elif nice == 0:\n",
        "        return 'Medium'\n",
        "    else:\n",
        "        return 'Low'\n",
        "\n",
        "df['Priority_Class'] = df.apply(classify_priority, axis=1)\n",
        "\n",
        "# ----------------------------------------\n",
        "# 🔷 4. Execution Time Classification\n",
        "# ----------------------------------------\n",
        "\n",
        "def classify_execution_time(row):\n",
        "    ticks = row['Total_Time_Ticks']\n",
        "    if ticks < 500:\n",
        "        return 'Short'\n",
        "    elif ticks < 2000:\n",
        "        return 'Medium'\n",
        "    else:\n",
        "        return 'Long'\n",
        "\n",
        "df['Execution_Time_Class'] = df.apply(classify_execution_time, axis=1)\n",
        "\n",
        "# ----------------------------------------\n",
        "# ✅ Check distributions to ensure correctness\n",
        "\n",
        "print(\"\\n🔷 Resource Usage Classification Distribution:\")\n",
        "print(df['Resource_Type'].value_counts())\n",
        "\n",
        "print(\"\\n🔷 Interactivity Classification Distribution:\")\n",
        "print(df['Interactivity'].value_counts())\n",
        "\n",
        "print(\"\\n🔷 Priority Classification Distribution:\")\n",
        "print(df['Priority_Class'].value_counts())\n",
        "\n",
        "print(\"\\n🔷 Execution Time Classification Distribution:\")\n",
        "print(df['Execution_Time_Class'].value_counts())\n",
        "\n",
        "# ✅ Save the labeled dataset for model training later\n",
        "df.to_csv(\"classified_dataset.csv\", index=False)\n"
      ],
      "metadata": {
        "colab": {
          "base_uri": "https://localhost:8080/"
        },
        "id": "i0zIe8Gk7WZZ",
        "outputId": "fcda353f-a6db-4ac7-f5a2-37653dbc06e5"
      },
      "execution_count": 4,
      "outputs": [
        {
          "output_type": "stream",
          "name": "stdout",
          "text": [
            "\n",
            "🔷 Resource Usage Classification Distribution:\n",
            "Resource_Type\n",
            "IO-bound     106917\n",
            "Mixed          3060\n",
            "CPU-bound         2\n",
            "Name: count, dtype: int64\n",
            "\n",
            "🔷 Interactivity Classification Distribution:\n",
            "Interactivity\n",
            "Interactive    90869\n",
            "Other           8532\n",
            "Real-time       7240\n",
            "Background      3316\n",
            "Batch             22\n",
            "Name: count, dtype: int64\n",
            "\n",
            "🔷 Priority Classification Distribution:\n",
            "Priority_Class\n",
            "Medium    84649\n",
            "High      21290\n",
            "Low        4040\n",
            "Name: count, dtype: int64\n",
            "\n",
            "🔷 Execution Time Classification Distribution:\n",
            "Execution_Time_Class\n",
            "Short     102063\n",
            "Medium      4927\n",
            "Long        2989\n",
            "Name: count, dtype: int64\n"
          ]
        }
      ]
    },
    {
      "cell_type": "code",
      "source": [
        "print(df.isnull().sum())\n"
      ],
      "metadata": {
        "colab": {
          "base_uri": "https://localhost:8080/"
        },
        "id": "dk9h1v71VDNi",
        "outputId": "0df7eecf-a3ea-4f0c-d2e5-c8bb15170eb2"
      },
      "execution_count": 5,
      "outputs": [
        {
          "output_type": "stream",
          "name": "stdout",
          "text": [
            "Timestamp                     0\n",
            "PID                           0\n",
            "Name                          0\n",
            "State                         0\n",
            "PPid                          0\n",
            "Threads                       0\n",
            "VmRSS                         0\n",
            "Priority                      0\n",
            "Nice                          0\n",
            "CPU_Usage_%                   0\n",
            "Total_Time_Ticks              0\n",
            "Elapsed_Time_sec              0\n",
            "Voluntary_ctxt_switches       0\n",
            "Nonvoluntary_ctxt_switches    0\n",
            "Scheduling_Policy             0\n",
            "Sched_Stats                   0\n",
            "IO_Stats                      0\n",
            "Cmdline                       0\n",
            "avg_cpu_time                  0\n",
            "Resource_Type                 0\n",
            "Interactivity                 0\n",
            "Priority_Class                0\n",
            "Execution_Time_Class          0\n",
            "dtype: int64\n"
          ]
        }
      ]
    }
  ]
}